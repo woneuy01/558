{
 "cells": [
  {
   "cell_type": "markdown",
   "metadata": {},
   "source": [
    "# Web Scraping via Python: HTML"
   ]
  },
  {
   "cell_type": "markdown",
   "metadata": {},
   "source": [
    "## The components of a web page\n",
    "\n",
    "When we visit a web page, our web browser sends a request to a web server. This request is called a GET \n",
    "request, since we’re getting files from the server. The server then sends back files that tell our \n",
    "browser how to render the page for us. The files fall into a few main types:\n",
    "\n",
    "-  HTML — contain the main content of the page.\n",
    "-  CSS — add styling to make the page look nicer.\n",
    "-  JS — Javascript files add interactivity to web pages.\n",
    "-  Images — image formats, such as JPG and PNG allow web pages to show pictures.\n",
    "\n",
    "After our browser receives all the files, it renders the page and displays it to us. There’s a lot that \n",
    "happens behind the scenes to render a page nicely, but we don’t need to worry about most of it when we’re \n",
    "web scraping. When we perform web scraping, we’re interested in the main content of the web page, so we \n",
    "let us first talka about the HTML."
   ]
  },
  {
   "cell_type": "markdown",
   "metadata": {},
   "source": [
    "## HTML\n",
    "\n",
    "HTML stands for HyperText Markup Language, which is a language that web pages are created in. HTML is not a \n",
    "programming language. In fact, it is a markup language that tells a browser how to layout content. HTML \n",
    "allows you to do similar things to what you do in a word processor like Microsoft Word — make text bold, \n",
    "create paragraphs, and so on. \n",
    "\n",
    "Let’s take a quick tour through HTML so we know enough to scrape effectively. HTML consists of elements \n",
    "called tags. The most basic tag is the <html> tag. This tag tells the web browser that everything \n",
    "inside of it is HTML. We can make a simple HTML document just using this tag:"
   ]
  },
  {
   "cell_type": "markdown",
   "metadata": {},
   "source": [
    "<pre class=\"language-python\"><code class=\"language-python\">&lt;html&gt;\n",
    "&lt;/html&gt;</code></pre>"
   ]
  },
  {
   "cell_type": "markdown",
   "metadata": {},
   "source": [
    "We haven’t added any content to our page yet, so if we viewed our HTML document in a web browser, we \n",
    "wouldn’t see anything:\n",
    "    \n",
    "    \n",
    "<div style=\"border: 1px solid black;min-height: 25px;padding: 10px;margin-bottom:15px;margin-top:15px;\"></div>"
   ]
  },
  {
   "cell_type": "markdown",
   "metadata": {},
   "source": [
    "In HTML, tags are nested, and can go inside other tags. We can add two more tags, the head tag, and the body tag inside \n",
    "an html tag.\n",
    "The head tag contains data about the title of the page, and other information that \n",
    "generally isn’t useful in web scraping. The main content of the web page goes into the body tag. \n",
    "<pre class=\"language-python\"><code class=\"language-python\">\n",
    "&lt;html&gt;\n",
    "    &lt;head&gt;\n",
    "    &lt;/head&gt;\n",
    "    &lt;body&gt;\n",
    "    &lt;/body&gt;\n",
    "&lt;/html&gt;\n",
    "</code></pre>\n",
    "Since we haven’t added any content to our page yet, we wouldn’t see anything in a web browser\n",
    "for our HTML document."
   ]
  },
  {
   "cell_type": "code",
   "execution_count": null,
   "metadata": {},
   "outputs": [],
   "source": []
  },
  {
   "cell_type": "markdown",
   "metadata": {},
   "source": [
    "We’ll now add our first content to the page, in the form of the p tag. The p tag defines a paragraph, and any text \n",
    "inside the tag is shown as a separate paragraph:\n",
    "<pre class=\"language-python\"><code class=\"language-python\">\n",
    "&lt;html&gt;\n",
    "    &lt;head&gt;\n",
    "    &lt;/head&gt;\n",
    "    &lt;body&gt;\n",
    "        &lt;p&gt;\n",
    "            I like Python!\n",
    "        &lt;/p&gt;\n",
    "        &lt;p&gt;\n",
    "            I would like to learn more about Python!\n",
    "        &lt;/p&gt;\n",
    "    &lt;/body&gt;\n",
    "&lt;/html&gt;</code></pre>"
   ]
  },
  {
   "cell_type": "markdown",
   "metadata": {},
   "source": [
    "Here is how this will look:\n",
    "<div style=\"border: 1px solid black;min-height: 25px;padding: 10px;margin-bottom:15px;margin-top:15px;\">\n",
    "<p>I like Python!</p>\n",
    "<p>I would like to learn more about Python!</p>\n",
    "</div>"
   ]
  },
  {
   "cell_type": "markdown",
   "metadata": {},
   "source": [
    "Tags have commonly used names that depend on their position in relation to other tags:\n",
    "\n",
    "-  child — a child is a tag inside another tag. So the two p tags above are both children of the body tag.\n",
    "-  parent — a parent is the tag having another tag inside. Above, the html tag is the parent of the body tag.\n",
    "-  sibiling — a sibiling is a tag that is nested inside the same parent as another tag. For example, head and \n",
    "   body are siblings, since they’re both inside html. Both p tags are siblings, since they’re both inside body.\n",
    "\n",
    "We can also add properties to HTML tags that change their behavior:\n",
    "    \n",
    "<pre class=\"language-python\"><code class=\"language-python\">\n",
    "&lt;html&gt;\n",
    "    &lt;head&gt;\n",
    "    &lt;/head&gt;\n",
    "    &lt;body&gt;\n",
    "        &lt;p&gt;\n",
    "            I like Python!\n",
    "            &lt;a href=\"https://www.python.org\"&gt;Welcome to Python.org&lt;/a&gt;\n",
    "        &lt;/p&gt;\n",
    "        &lt;p&gt;\n",
    "            I would like to learn more about Python!\n",
    "            &lt;a href=\"https://catalog.fullerton.edu/preview_course_nopop.php?catoid=2&coid=5816\"&gt;ISDS558&lt;/a&gt;        \n",
    "        &lt;/p&gt;\n",
    "    &lt;/body&gt;&lt;/html&gt;</code></pre>"
   ]
  },
  {
   "cell_type": "markdown",
   "metadata": {},
   "source": [
    "Here is how this will look:\n",
    "\n",
    "<div style=\"border: 1px solid black;min-height: 25px;padding: 10px;margin-bottom:15px;margin-top:15px;\">\n",
    "<p>I like Python!       <a href=\"https://www.python.org\">Welcome to Python.org</a></p>\n",
    "<p>I would like to learn more about Python!        <a href=\"https://catalog.fullerton.edu/preview_course_nopop.php?catoid=2&coid=5816\">ISDS558</a></p>\n",
    "</div>"
   ]
  },
  {
   "cell_type": "markdown",
   "metadata": {},
   "source": [
    "For a full list of tags, look [here](https://developer.mozilla.org/en-US/docs/Web/HTML/Element).\n",
    "\n",
    "Before we move into actual web scraping, let’s learn about the class and id properties. These special \n",
    "properties give HTML elements names, and make them easier to interact with when we’re scraping. One \n",
    "element can have multiple classes, and a class can be shared between elements. Each element can only \n",
    "have one id, and an id can only be used once on a page. Classes and ids are optional, and not all \n",
    "elements will have them.\n",
    "\n",
    "We can add classes and ids to our example:"
   ]
  },
  {
   "cell_type": "markdown",
   "metadata": {},
   "source": [
    "<pre class=\"language-python\"><code class=\"language-python\">\n",
    "&lt;html&gt;\n",
    "    &lt;head&gt;\n",
    "    &lt;/head&gt;\n",
    "    &lt;body&gt;\n",
    "        &lt;p class=\"first-paragraph\"&gt;\n",
    "            I like Python!\n",
    "            &lt;a href=\"https://www.python.org\" id=\"python-link\"&gt;Welcome to Python.org&lt;/a&gt;\n",
    "        &lt;/p&gt;\n",
    "        &lt;p class=\"second-paragraph\"&gt;\n",
    "            I would like to learn more about Python!\n",
    "            &lt;a href=\"https://catalog.fullerton.edu/preview_course_nopop.php?catoid=2&coid=5816\" \n",
    "                  id=\"ISDS558-link\"&gt;ISDS558&lt;/a&gt;\n",
    "        &lt;/p&gt;\n",
    "    &lt;/body&gt;\n",
    "&lt;/html&gt;</code></pre>"
   ]
  },
  {
   "cell_type": "markdown",
   "metadata": {},
   "source": [
    "Here is how this will look:\n",
    "\n",
    "<div style=\"border: 1px solid black;min-height: 25px;padding: 10px;margin-bottom:15px;margin-top:15px;\">\n",
    "<p>I like Python!       <a href=\"https://www.python.org\">Welcome to Python.org</a></p>\n",
    "<p>I would like to learn more about Python!        <a href=\"https://catalog.fullerton.edu/preview_course_nopop.php?catoid=2&coid=5816\">ISDS558</a></p>\n",
    "</div>"
   ]
  },
  {
   "cell_type": "code",
   "execution_count": null,
   "metadata": {},
   "outputs": [],
   "source": [
    "As you can see, adding classes and ids doesn’t change how the tags are rendered at all. "
   ]
  },
  {
   "cell_type": "code",
   "execution_count": null,
   "metadata": {},
   "outputs": [],
   "source": [
    "import requests\n",
    "from bs4 import BeautifulSoup\n",
    "\n",
    "url = \"https://assets.digitalocean.com/articles/eng_python/beautiful-soup/mockturtle.html\"\n",
    "page = requests.get(url)\n",
    "soup = BeautifulSoup(page.text, 'html.parser')"
   ]
  },
  {
   "cell_type": "code",
   "execution_count": null,
   "metadata": {},
   "outputs": [],
   "source": [
    "We can now print out the HTML content of the page, formatted nicely, using \n",
    "the prettify method on the BeautifulSoup object:"
   ]
  },
  {
   "cell_type": "code",
   "execution_count": null,
   "metadata": {},
   "outputs": [],
   "source": [
    "print(soup.prettify())"
   ]
  },
  {
   "cell_type": "markdown",
   "metadata": {},
   "source": [
    "As all the tags are nested, we can move through the structure one level at \n",
    "a time. We can first select all the elements at the top level of the page \n",
    "using the children property of soup. Note that children returns a list \n",
    "generator, so we need to call the list function on it:"
   ]
  },
  {
   "cell_type": "code",
   "execution_count": null,
   "metadata": {},
   "outputs": [],
   "source": [
    "list(soup.children)"
   ]
  },
  {
   "cell_type": "code",
   "execution_count": null,
   "metadata": {},
   "outputs": [],
   "source": [
    "The above tells us that there are two tags at the top level of the page — the \n",
    "initial <!DOCTYPE html> tag, and the <html> tag. There is a newline \n",
    "character (\\n) in the list as well. Let’s see what the type of each \n",
    "element in the list is:"
   ]
  },
  {
   "cell_type": "code",
   "execution_count": null,
   "metadata": {},
   "outputs": [],
   "source": [
    "[type(item) for item in list(soup.children)]"
   ]
  },
  {
   "cell_type": "markdown",
   "metadata": {},
   "source": [
    "As you can see, all of the items are BeautifulSoup objects. The first is a \n",
    "Doctype object, which contains information about the type of the document. \n",
    "The second is a NavigableString, which represents text found in the HTML \n",
    "document. The third item is a Tag object, which contains other nested tags. \n",
    "The final is a NavigableString again. The most important object type, and \n",
    "the one we’ll deal with most often, is \n",
    "the Tag object.\n",
    "\n",
    "The Tag object allows us to navigate through an HTML document, and extract \n",
    "other tags and text. You can learn more about the various BeautifulSoup objects here.\n",
    "\n",
    "We can now select the html tag and its children by taking the third item in the list:"
   ]
  },
  {
   "cell_type": "code",
   "execution_count": null,
   "metadata": {},
   "outputs": [],
   "source": [
    "html = list(soup.children)[2]\n",
    "type(html)"
   ]
  },
  {
   "cell_type": "code",
   "execution_count": null,
   "metadata": {},
   "outputs": [],
   "source": [
    "Each item in the list returned by the children property is also a \n",
    "BeautifulSoup object, so we can also call the children method on html.\n",
    "\n",
    "Now, we can find the children inside the html tag:"
   ]
  },
  {
   "cell_type": "code",
   "execution_count": null,
   "metadata": {},
   "outputs": [],
   "source": [
    "list(html.children)"
   ]
  },
  {
   "cell_type": "code",
   "execution_count": null,
   "metadata": {},
   "outputs": [],
   "source": [
    "As you can see above, there are two tags here, head, and body. If we want to extract the \n",
    "text inside the h1 tag, we’ll dive into the body: "
   ]
  },
  {
   "cell_type": "code",
   "execution_count": null,
   "metadata": {},
   "outputs": [],
   "source": [
    "body = list(html.children)[3]\n",
    "body\n",
    "type(body)"
   ]
  },
  {
   "cell_type": "code",
   "execution_count": 43,
   "metadata": {},
   "outputs": [
    {
     "data": {
      "text/plain": [
       "['\\n',\n",
       " <h1>Turtle Soup</h1>,\n",
       " '\\n',\n",
       " <p class=\"verse\" id=\"first\">Beautiful Soup, so rich and green,<br/>\n",
       "   Waiting in a hot tureen!<br/>\n",
       "   Who for such dainties would not stoop?<br/>\n",
       "   Soup of the evening, beautiful Soup!<br/>\n",
       "   Soup of the evening, beautiful Soup!<br/></p>,\n",
       " '\\n',\n",
       " <p class=\"chorus\" id=\"second\">Beau--ootiful Soo--oop!<br/>\n",
       "   Beau--ootiful Soo--oop!<br/>\n",
       "   Soo--oop of the e--e--evening,<br/>\n",
       "   Beautiful, beautiful Soup!<br/></p>,\n",
       " '\\n',\n",
       " <p class=\"verse\" id=\"third\">Beautiful Soup! Who cares for fish,<br/>\n",
       "   Game or any other dish?<br/>\n",
       "   Who would not give all else for two<br/>\n",
       "   Pennyworth only of Beautiful Soup?<br/>\n",
       "   Pennyworth only of beautiful Soup?<br/></p>,\n",
       " '\\n',\n",
       " <p class=\"chorus\" id=\"fourth\">Beau--ootiful Soo--oop!<br/>\n",
       "   Beau--ootiful Soo--oop!<br/>\n",
       "   Soo--oop of the e--e--evening,<br/>\n",
       "   Beautiful, beauti--FUL SOUP!<br/></p>,\n",
       " '\\n']"
      ]
     },
     "execution_count": 43,
     "metadata": {},
     "output_type": "execute_result"
    }
   ],
   "source": [
    "list(body.children)"
   ]
  },
  {
   "cell_type": "markdown",
   "metadata": {},
   "source": [
    "Now, we can get the h1 tag by finding the children of the body tag:"
   ]
  },
  {
   "cell_type": "code",
   "execution_count": 45,
   "metadata": {},
   "outputs": [
    {
     "data": {
      "text/plain": [
       "<h1>Turtle Soup</h1>"
      ]
     },
     "execution_count": 45,
     "metadata": {},
     "output_type": "execute_result"
    }
   ],
   "source": [
    "h1 = list(body.children)[1]\n",
    "h1"
   ]
  },
  {
   "cell_type": "code",
   "execution_count": null,
   "metadata": {},
   "outputs": [],
   "source": [
    "Once we’ve isolated the tag, we can use the **get_text** method to extract all of \n",
    "the text inside the tag:"
   ]
  },
  {
   "cell_type": "code",
   "execution_count": 46,
   "metadata": {},
   "outputs": [
    {
     "data": {
      "text/plain": [
       "'Turtle Soup'"
      ]
     },
     "execution_count": 46,
     "metadata": {},
     "output_type": "execute_result"
    }
   ],
   "source": [
    "h1.get_text()"
   ]
  },
  {
   "cell_type": "markdown",
   "metadata": {},
   "source": [
    "Similarly, we can extra the text inside the first p tag:"
   ]
  },
  {
   "cell_type": "code",
   "execution_count": 48,
   "metadata": {},
   "outputs": [
    {
     "data": {
      "text/plain": [
       "<p class=\"verse\" id=\"first\">Beautiful Soup, so rich and green,<br/>\n",
       "  Waiting in a hot tureen!<br/>\n",
       "  Who for such dainties would not stoop?<br/>\n",
       "  Soup of the evening, beautiful Soup!<br/>\n",
       "  Soup of the evening, beautiful Soup!<br/></p>"
      ]
     },
     "execution_count": 48,
     "metadata": {},
     "output_type": "execute_result"
    }
   ],
   "source": [
    "p1 = list(body.children)[3]\n",
    "p1"
   ]
  },
  {
   "cell_type": "code",
   "execution_count": 49,
   "metadata": {},
   "outputs": [
    {
     "data": {
      "text/plain": [
       "'Beautiful Soup, so rich and green,\\n  Waiting in a hot tureen!\\n  Who for such dainties would not stoop?\\n  Soup of the evening, beautiful Soup!\\n  Soup of the evening, beautiful Soup!'"
      ]
     },
     "execution_count": 49,
     "metadata": {},
     "output_type": "execute_result"
    }
   ],
   "source": [
    "p1.get_text()"
   ]
  },
  {
   "cell_type": "markdown",
   "metadata": {},
   "source": [
    "We can use similarly ideas to get the texts in other p tags."
   ]
  },
  {
   "cell_type": "code",
   "execution_count": 50,
   "metadata": {},
   "outputs": [
    {
     "data": {
      "text/plain": [
       "'Beau--ootiful Soo--oop!\\n  Beau--ootiful Soo--oop!\\n  Soo--oop of the e--e--evening,\\n  Beautiful, beautiful Soup!'"
      ]
     },
     "execution_count": 50,
     "metadata": {},
     "output_type": "execute_result"
    }
   ],
   "source": [
    "p2 = list(body.children)[5]\n",
    "p2.get_text()"
   ]
  },
  {
   "cell_type": "code",
   "execution_count": 51,
   "metadata": {},
   "outputs": [
    {
     "data": {
      "text/plain": [
       "'Beautiful Soup! Who cares for fish,\\n  Game or any other dish?\\n  Who would not give all else for two\\n  Pennyworth only of Beautiful Soup?\\n  Pennyworth only of beautiful Soup?'"
      ]
     },
     "execution_count": 51,
     "metadata": {},
     "output_type": "execute_result"
    }
   ],
   "source": [
    "p3 = list(body.children)[7]\n",
    "p3.get_text()"
   ]
  },
  {
   "cell_type": "code",
   "execution_count": null,
   "metadata": {},
   "outputs": [],
   "source": [
    "p4 = list(body.children)[9]\n",
    "p4.get_text()"
   ]
  },
  {
   "cell_type": "markdown",
   "metadata": {},
   "source": [
    "## Finding all instances of a tag at once\n",
    "\n",
    "If we want to find all the texts in the p tag, we can use the \n",
    "find_all method."
   ]
  },
  {
   "cell_type": "code",
   "execution_count": 52,
   "metadata": {},
   "outputs": [
    {
     "data": {
      "text/plain": [
       "[<p class=\"verse\" id=\"first\">Beautiful Soup, so rich and green,<br/>\n",
       "   Waiting in a hot tureen!<br/>\n",
       "   Who for such dainties would not stoop?<br/>\n",
       "   Soup of the evening, beautiful Soup!<br/>\n",
       "   Soup of the evening, beautiful Soup!<br/></p>,\n",
       " <p class=\"chorus\" id=\"second\">Beau--ootiful Soo--oop!<br/>\n",
       "   Beau--ootiful Soo--oop!<br/>\n",
       "   Soo--oop of the e--e--evening,<br/>\n",
       "   Beautiful, beautiful Soup!<br/></p>,\n",
       " <p class=\"verse\" id=\"third\">Beautiful Soup! Who cares for fish,<br/>\n",
       "   Game or any other dish?<br/>\n",
       "   Who would not give all else for two<br/>\n",
       "   Pennyworth only of Beautiful Soup?<br/>\n",
       "   Pennyworth only of beautiful Soup?<br/></p>,\n",
       " <p class=\"chorus\" id=\"fourth\">Beau--ootiful Soo--oop!<br/>\n",
       "   Beau--ootiful Soo--oop!<br/>\n",
       "   Soo--oop of the e--e--evening,<br/>\n",
       "   Beautiful, beauti--FUL SOUP!<br/></p>]"
      ]
     },
     "execution_count": 52,
     "metadata": {},
     "output_type": "execute_result"
    }
   ],
   "source": [
    "soup.find_all('p')"
   ]
  },
  {
   "cell_type": "markdown",
   "metadata": {},
   "source": [
    "Note that find_all returns a list, so we’ll have to loop through, or use list \n",
    "indexing, it to extract text:"
   ]
  },
  {
   "cell_type": "code",
   "execution_count": 54,
   "metadata": {},
   "outputs": [
    {
     "name": "stdout",
     "output_type": "stream",
     "text": [
      "\n",
      " Beautiful Soup, so rich and green,\n",
      "  Waiting in a hot tureen!\n",
      "  Who for such dainties would not stoop?\n",
      "  Soup of the evening, beautiful Soup!\n",
      "  Soup of the evening, beautiful Soup!\n",
      "\n",
      " Beau--ootiful Soo--oop!\n",
      "  Beau--ootiful Soo--oop!\n",
      "  Soo--oop of the e--e--evening,\n",
      "  Beautiful, beautiful Soup!\n",
      "\n",
      " Beautiful Soup! Who cares for fish,\n",
      "  Game or any other dish?\n",
      "  Who would not give all else for two\n",
      "  Pennyworth only of Beautiful Soup?\n",
      "  Pennyworth only of beautiful Soup?\n",
      "\n",
      " Beau--ootiful Soo--oop!\n",
      "  Beau--ootiful Soo--oop!\n",
      "  Soo--oop of the e--e--evening,\n",
      "  Beautiful, beauti--FUL SOUP!\n"
     ]
    }
   ],
   "source": [
    "## Using loop\n",
    "for item in soup.find_all('p'):\n",
    "    print(\"\\n\", item.get_text())"
   ]
  },
  {
   "cell_type": "code",
   "execution_count": 57,
   "metadata": {},
   "outputs": [
    {
     "name": "stdout",
     "output_type": "stream",
     "text": [
      "\n",
      " Beautiful Soup, so rich and green,\n",
      "  Waiting in a hot tureen!\n",
      "  Who for such dainties would not stoop?\n",
      "  Soup of the evening, beautiful Soup!\n",
      "  Soup of the evening, beautiful Soup!\n",
      "\n",
      " Beau--ootiful Soo--oop!\n",
      "  Beau--ootiful Soo--oop!\n",
      "  Soo--oop of the e--e--evening,\n",
      "  Beautiful, beautiful Soup!\n",
      "\n",
      " Beautiful Soup! Who cares for fish,\n",
      "  Game or any other dish?\n",
      "  Who would not give all else for two\n",
      "  Pennyworth only of Beautiful Soup?\n",
      "  Pennyworth only of beautiful Soup?\n",
      "\n",
      " Beau--ootiful Soo--oop!\n",
      "  Beau--ootiful Soo--oop!\n",
      "  Soo--oop of the e--e--evening,\n",
      "  Beautiful, beauti--FUL SOUP!\n"
     ]
    }
   ],
   "source": [
    "## Uisng index\n",
    "\n",
    "print(\"\\n\", soup.find_all('p')[0].get_text())\n",
    "\n",
    "print(\"\\n\", soup.find_all('p')[1].get_text())\n",
    "\n",
    "print(\"\\n\", soup.find_all('p')[2].get_text())\n",
    "\n",
    "print(\"\\n\", soup.find_all('p')[3].get_text())"
   ]
  },
  {
   "cell_type": "code",
   "execution_count": null,
   "metadata": {},
   "outputs": [],
   "source": [
    "## Searching for tags by class and id\n",
    "We introduced classes and ids earlier, but it probably wasn’t clear why \n",
    "they were useful. Classes and ids are used by CSS to determine which HTML \n",
    "elements to apply certain styles to. We can also use them when scraping to \n",
    "specify specific elements we want to scrape. Let us look at the same web page again."
   ]
  },
  {
   "cell_type": "code",
   "execution_count": 58,
   "metadata": {},
   "outputs": [
    {
     "name": "stdout",
     "output_type": "stream",
     "text": [
      "<!DOCTYPE html PUBLIC \"-//W3C//DTD XHTML 1.0 Strict//EN\"\n",
      "    \"http://www.w3.org/TR/xhtml1/DTD/xhtml1-strict.dtd\">\n",
      "<html lang=\"en-US\" xml:lang=\"en-US\" xmlns=\"http://www.w3.org/1999/xhtml\">\n",
      " <head>\n",
      "  <meta content=\"text/html; charset=utf-8\" http-equiv=\"content-type\"/>\n",
      "  <title>\n",
      "   Turtle Soup\n",
      "  </title>\n",
      " </head>\n",
      " <body>\n",
      "  <h1>\n",
      "   Turtle Soup\n",
      "  </h1>\n",
      "  <p class=\"verse\" id=\"first\">\n",
      "   Beautiful Soup, so rich and green,\n",
      "   <br/>\n",
      "   Waiting in a hot tureen!\n",
      "   <br/>\n",
      "   Who for such dainties would not stoop?\n",
      "   <br/>\n",
      "   Soup of the evening, beautiful Soup!\n",
      "   <br/>\n",
      "   Soup of the evening, beautiful Soup!\n",
      "   <br/>\n",
      "  </p>\n",
      "  <p class=\"chorus\" id=\"second\">\n",
      "   Beau--ootiful Soo--oop!\n",
      "   <br/>\n",
      "   Beau--ootiful Soo--oop!\n",
      "   <br/>\n",
      "   Soo--oop of the e--e--evening,\n",
      "   <br/>\n",
      "   Beautiful, beautiful Soup!\n",
      "   <br/>\n",
      "  </p>\n",
      "  <p class=\"verse\" id=\"third\">\n",
      "   Beautiful Soup! Who cares for fish,\n",
      "   <br/>\n",
      "   Game or any other dish?\n",
      "   <br/>\n",
      "   Who would not give all else for two\n",
      "   <br/>\n",
      "   Pennyworth only of Beautiful Soup?\n",
      "   <br/>\n",
      "   Pennyworth only of beautiful Soup?\n",
      "   <br/>\n",
      "  </p>\n",
      "  <p class=\"chorus\" id=\"fourth\">\n",
      "   Beau--ootiful Soo--oop!\n",
      "   <br/>\n",
      "   Beau--ootiful Soo--oop!\n",
      "   <br/>\n",
      "   Soo--oop of the e--e--evening,\n",
      "   <br/>\n",
      "   Beautiful, beauti--FUL SOUP!\n",
      "   <br/>\n",
      "  </p>\n",
      " </body>\n",
      "</html>\n",
      "\n"
     ]
    }
   ],
   "source": [
    "import requests\n",
    "from bs4 import BeautifulSoup\n",
    "\n",
    "url = \"https://assets.digitalocean.com/articles/eng_python/beautiful-soup/mockturtle.html\"\n",
    "page = requests.get(url)\n",
    "soup = BeautifulSoup(page.text, 'html.parser')\n",
    "print(soup.prettify())"
   ]
  },
  {
   "cell_type": "markdown",
   "metadata": {},
   "source": [
    "Now, we can use the find_all method to search for items by class or by id. For example,\n",
    "we’ll search for any p tag that has the class verse:"
   ]
  },
  {
   "cell_type": "code",
   "execution_count": 59,
   "metadata": {},
   "outputs": [
    {
     "data": {
      "text/plain": [
       "[<p class=\"verse\" id=\"first\">Beautiful Soup, so rich and green,<br/>\n",
       "   Waiting in a hot tureen!<br/>\n",
       "   Who for such dainties would not stoop?<br/>\n",
       "   Soup of the evening, beautiful Soup!<br/>\n",
       "   Soup of the evening, beautiful Soup!<br/></p>,\n",
       " <p class=\"verse\" id=\"third\">Beautiful Soup! Who cares for fish,<br/>\n",
       "   Game or any other dish?<br/>\n",
       "   Who would not give all else for two<br/>\n",
       "   Pennyworth only of Beautiful Soup?<br/>\n",
       "   Pennyworth only of beautiful Soup?<br/></p>]"
      ]
     },
     "execution_count": 59,
     "metadata": {},
     "output_type": "execute_result"
    }
   ],
   "source": [
    "soup.find_all('p', class_='verse')"
   ]
  },
  {
   "cell_type": "markdown",
   "metadata": {},
   "source": [
    "We can look for any tag that has the class verse:"
   ]
  },
  {
   "cell_type": "code",
   "execution_count": 60,
   "metadata": {},
   "outputs": [
    {
     "data": {
      "text/plain": [
       "[<p class=\"verse\" id=\"first\">Beautiful Soup, so rich and green,<br/>\n",
       "   Waiting in a hot tureen!<br/>\n",
       "   Who for such dainties would not stoop?<br/>\n",
       "   Soup of the evening, beautiful Soup!<br/>\n",
       "   Soup of the evening, beautiful Soup!<br/></p>,\n",
       " <p class=\"verse\" id=\"third\">Beautiful Soup! Who cares for fish,<br/>\n",
       "   Game or any other dish?<br/>\n",
       "   Who would not give all else for two<br/>\n",
       "   Pennyworth only of Beautiful Soup?<br/>\n",
       "   Pennyworth only of beautiful Soup?<br/></p>]"
      ]
     },
     "execution_count": 60,
     "metadata": {},
     "output_type": "execute_result"
    }
   ],
   "source": [
    "soup.find_all(class_='verse')"
   ]
  },
  {
   "cell_type": "code",
   "execution_count": null,
   "metadata": {},
   "outputs": [],
   "source": [
    "We can also search for elements by id:"
   ]
  },
  {
   "cell_type": "code",
   "execution_count": 61,
   "metadata": {},
   "outputs": [
    {
     "data": {
      "text/plain": [
       "[<p class=\"verse\" id=\"first\">Beautiful Soup, so rich and green,<br/>\n",
       "   Waiting in a hot tureen!<br/>\n",
       "   Who for such dainties would not stoop?<br/>\n",
       "   Soup of the evening, beautiful Soup!<br/>\n",
       "   Soup of the evening, beautiful Soup!<br/></p>]"
      ]
     },
     "execution_count": 61,
     "metadata": {},
     "output_type": "execute_result"
    }
   ],
   "source": [
    "soup.find_all(id=\"first\")"
   ]
  },
  {
   "cell_type": "code",
   "execution_count": 62,
   "metadata": {},
   "outputs": [
    {
     "data": {
      "text/plain": [
       "[<p class=\"verse\" id=\"third\">Beautiful Soup! Who cares for fish,<br/>\n",
       "   Game or any other dish?<br/>\n",
       "   Who would not give all else for two<br/>\n",
       "   Pennyworth only of Beautiful Soup?<br/>\n",
       "   Pennyworth only of beautiful Soup?<br/></p>]"
      ]
     },
     "execution_count": 62,
     "metadata": {},
     "output_type": "execute_result"
    }
   ],
   "source": [
    "soup.find_all(id=\"third\")"
   ]
  },
  {
   "cell_type": "code",
   "execution_count": 63,
   "metadata": {},
   "outputs": [
    {
     "data": {
      "text/plain": [
       "[<p class=\"verse\" id=\"third\">Beautiful Soup! Who cares for fish,<br/>\n",
       "   Game or any other dish?<br/>\n",
       "   Who would not give all else for two<br/>\n",
       "   Pennyworth only of Beautiful Soup?<br/>\n",
       "   Pennyworth only of beautiful Soup?<br/></p>]"
      ]
     },
     "execution_count": 63,
     "metadata": {},
     "output_type": "execute_result"
    }
   ],
   "source": [
    "soup.find_all(class_='verse', id=\"third\")"
   ]
  },
  {
   "cell_type": "markdown",
   "metadata": {},
   "source": [
    "## Using CSS Selectors\n",
    "\n",
    "You can also search for items using [CSS selectors](https://developer.mozilla.org/en-US/docs/Learn/CSS/Introduction_to_CSS/Selectors). These selectors are \n",
    "how the CSS language allows developers to specify HTML tags to style. \n",
    "Here are some examples:\n",
    "\n",
    "-  p a — finds all a tags inside of a p tag.\n",
    "-  body p a — finds all a tags inside of a p tag inside of a body tag.\n",
    "-  html body — finds all body tags inside of an html tag.\n",
    "-  p.outer-text — finds all p tags with a class of outer-text.\n",
    "-  p\\#first — finds all p tags with an id of first.\n",
    "-  body p.outer-text — finds any p tags with a class of outer-text inside of a body tag.\n",
    "You can learn more about CSS selectors here."
   ]
  },
  {
   "cell_type": "markdown",
   "metadata": {},
   "source": [
    "BeautifulSoup objects support searching a page via CSS selectors using the \n",
    "select method. We can use CSS selectors to find all the h1 tags in our page \n",
    "that are inside of a body like this:"
   ]
  },
  {
   "cell_type": "code",
   "execution_count": 64,
   "metadata": {},
   "outputs": [
    {
     "data": {
      "text/plain": [
       "[<h1>Turtle Soup</h1>]"
      ]
     },
     "execution_count": 64,
     "metadata": {},
     "output_type": "execute_result"
    }
   ],
   "source": [
    "soup.select(\"body h1\")"
   ]
  },
  {
   "cell_type": "markdown",
   "metadata": {},
   "source": [
    "## Example 1: Weather forecasts from the National Weather Service\n",
    "\n",
    "We now know enough to proceed with extracting information about the local \n",
    "weather from the National Weather Service website. The first step is to \n",
    "find the page we want to scrape. We’ll extract weather information about \n",
    "Fullerton, CA from [here](https://forecast.weather.gov/MapClick.php?lon=-117.90458679199217&lat=33.87326611273156#.XK5dvS3MxQI)."
   ]
  },
  {
   "cell_type": "markdown",
   "metadata": {},
   "source": [
    "### Downloading weather data\n",
    "\n",
    "As you can see from [here](https://forecast.weather.gov/MapClick.php?lon=-117.90458679199217&lat=33.87326611273156#.XK5dvS3MxQI), the page has information about the extended \n",
    "forecast for the next week, including time of day, temperature, and a brief \n",
    "description of the conditions."
   ]
  },
  {
   "cell_type": "code",
   "execution_count": null,
   "metadata": {},
   "outputs": [],
   "source": [
    "The first thing we’ll need to do is inspect the page. \n",
    "\n",
    "By right clicking on the page near where it says “Extended Forecast”, then \n",
    "clicking “Inspect”, we’ll open up the tag that contains the text “Extended Forecast” \n",
    "in the elements panel.\n",
    "\n",
    "We can then scroll up in the elements panel to find the “outermost” element that \n",
    "contains all of the text that corresponds to the extended forecasts. In this \n",
    "case, it’s a div tag with the id seven-day-forecast. If you explore the div, \n",
    "you’ll discover that each forecast item \n",
    "(like “Tonight”, “Thursday”, and “Thursday Night”) is contained in a div \n",
    "with the class tombstone-container."
   ]
  },
  {
   "cell_type": "code",
   "execution_count": null,
   "metadata": {},
   "outputs": [],
   "source": [
    "import requests\n",
    "from bs4 import BeautifulSoup\n",
    "\n",
    "url = \"https://forecast.weather.gov/MapClick.php?lon=-117.90458679199217&lat=33.87326611273156\"\n",
    "page = requests.get(url)\n",
    "soup = BeautifulSoup(page.text, 'html.parser')\n",
    "seven_day = soup.find(id=\"seven-day-forecast\")"
   ]
  },
  {
   "cell_type": "code",
   "execution_count": null,
   "metadata": {},
   "outputs": [],
   "source": [
    "seven_day"
   ]
  },
  {
   "cell_type": "code",
   "execution_count": null,
   "metadata": {},
   "outputs": [],
   "source": [
    "forecast_items = seven_day.find_all(class_=\"tombstone-container\")\n",
    "first_time = forecast_items[0]\n",
    "print(first_time.prettify())"
   ]
  },
  {
   "cell_type": "markdown",
   "metadata": {},
   "source": [
    "### Extracting information from the page\n",
    "\n",
    "As you can see, inside the forecast item tonight is all the \n",
    "information we want. There are 4 pieces of information we can extract:\n",
    "\n",
    "-  The name of the forecast item — in this case, This Afternoon.\n",
    "-  The description of the conditions — this is stored in the title property of img.\n",
    "-  A short description of the conditions — in this case, Sunny.\n",
    "-  The temperature high — in this case, 79 degrees.\n",
    "\n",
    "We’ll extract the name of the forecast item, the short description, and the \n",
    "temperature first, since they’re all similar:"
   ]
  },
  {
   "cell_type": "code",
   "execution_count": null,
   "metadata": {},
   "outputs": [],
   "source": [
    "period = first_time.find(class_=\"period-name\").get_text()\n",
    "short_desc = first_time.find(class_=\"short-desc\").get_text()\n",
    "temp = first_time.find(class_=\"temp\").get_text()\n",
    "\n",
    "print(period)\n",
    "print(short_desc)\n",
    "print(temp)"
   ]
  },
  {
   "cell_type": "code",
   "execution_count": null,
   "metadata": {},
   "outputs": [],
   "source": [
    "Now, we can extract the title attribute from the img tag. To do this, we \n",
    "just treat the BeautifulSoup object like a dictionary, and pass in the \n",
    "attribute we want as a key:"
   ]
  },
  {
   "cell_type": "code",
   "execution_count": null,
   "metadata": {},
   "outputs": [],
   "source": [
    "img = first_time.find(\"img\")\n",
    "desc = img['title']\n",
    "\n",
    "print(desc)"
   ]
  },
  {
   "cell_type": "code",
   "execution_count": null,
   "metadata": {},
   "outputs": [],
   "source": [
    "### Extracting all the information from the page\n",
    "\n",
    "Now that we know how to extract each individual piece of information. Next we\n",
    "would like to extract everything at once."
   ]
  },
  {
   "cell_type": "code",
   "execution_count": null,
   "metadata": {},
   "outputs": [],
   "source": [
    "period_tags = seven_day.select(\".tombstone-container .period-name\")\n",
    "period_tags"
   ]
  },
  {
   "cell_type": "code",
   "execution_count": null,
   "metadata": {},
   "outputs": [],
   "source": [
    "periods = [pt.get_text() for pt in period_tags]\n",
    "periods"
   ]
  },
  {
   "cell_type": "markdown",
   "metadata": {},
   "source": [
    "As you can see above, our technique gets us each of the period names, in order. \n",
    "We can apply the same technique to get the other 3 fields:"
   ]
  },
  {
   "cell_type": "code",
   "execution_count": 66,
   "metadata": {},
   "outputs": [
    {
     "name": "stdout",
     "output_type": "stream",
     "text": [
      "['Sunny', 'Mostly Clear', 'Sunny', 'Partly Cloudy', 'Sunny', 'Clear', 'Sunny', 'Partly Cloudy', 'Mostly Sunny']\n",
      "['High: 79 °F', 'Low: 55 °F', 'High: 77 °F', 'Low: 56 °F', 'High: 76 °F', 'Low: 55 °F', 'High: 78 °F', 'Low: 55 °F', 'High: 75 °F']\n",
      "['This Afternoon: Sunny, with a high near 79. Northwest wind around 10 mph. ', 'Tonight: Mostly clear, with a low around 55. Northwest wind 10 to 15 mph becoming light and variable  after midnight. Winds could gust as high as 25 mph. ', 'Thursday: Sunny, with a high near 77. Light and variable wind becoming southwest 10 to 15 mph in the afternoon. Winds could gust as high as 20 mph. ', 'Thursday Night: Partly cloudy, with a low around 56. West wind 10 to 15 mph becoming light and variable  after midnight. Winds could gust as high as 25 mph. ', 'Friday: Sunny, with a high near 76. South wind 5 to 10 mph becoming southwest in the afternoon. Winds could gust as high as 20 mph. ', 'Friday Night: Clear, with a low around 55.', 'Saturday: Sunny, with a high near 78.', 'Saturday Night: Partly cloudy, with a low around 55.', 'Sunday: Mostly sunny, with a high near 75.']\n"
     ]
    }
   ],
   "source": [
    "short_descs = [sd.get_text() for sd in seven_day.select(\".tombstone-container .short-desc\")]\n",
    "temps = [t.get_text() for t in seven_day.select(\".tombstone-container .temp\")]\n",
    "descs = [d[\"title\"] for d in seven_day.select(\".tombstone-container img\")]\n",
    "\n",
    "print(short_descs)\n",
    "print(temps)\n",
    "print(descs)"
   ]
  },
  {
   "cell_type": "markdown",
   "metadata": {},
   "source": [
    "### Combining our data into a Pandas Dataframe\n",
    "\n",
    "We can now combine the data into a Pandas DataFrame and analyze it. A DataFrame is \n",
    "an object that can store tabular data, making data analysis easy. "
   ]
  },
  {
   "cell_type": "markdown",
   "metadata": {},
   "source": [
    "In order to do this, we’ll call the DataFrame class, and pass in each list of \n",
    "items that we have. We pass them in as part of a dictionary. Each dictionary \n",
    "key will become a column in the DataFrame, and each list will become the \n",
    "values in the column:"
   ]
  },
  {
   "cell_type": "code",
   "execution_count": 67,
   "metadata": {},
   "outputs": [
    {
     "data": {
      "text/html": [
       "<div>\n",
       "<style scoped>\n",
       "    .dataframe tbody tr th:only-of-type {\n",
       "        vertical-align: middle;\n",
       "    }\n",
       "\n",
       "    .dataframe tbody tr th {\n",
       "        vertical-align: top;\n",
       "    }\n",
       "\n",
       "    .dataframe thead th {\n",
       "        text-align: right;\n",
       "    }\n",
       "</style>\n",
       "<table border=\"1\" class=\"dataframe\">\n",
       "  <thead>\n",
       "    <tr style=\"text-align: right;\">\n",
       "      <th></th>\n",
       "      <th>period</th>\n",
       "      <th>short_desc</th>\n",
       "      <th>temp</th>\n",
       "      <th>desc</th>\n",
       "    </tr>\n",
       "  </thead>\n",
       "  <tbody>\n",
       "    <tr>\n",
       "      <th>0</th>\n",
       "      <td>ThisAfternoon</td>\n",
       "      <td>Sunny</td>\n",
       "      <td>High: 79 °F</td>\n",
       "      <td>This Afternoon: Sunny, with a high near 79. No...</td>\n",
       "    </tr>\n",
       "    <tr>\n",
       "      <th>1</th>\n",
       "      <td>Tonight</td>\n",
       "      <td>Mostly Clear</td>\n",
       "      <td>Low: 55 °F</td>\n",
       "      <td>Tonight: Mostly clear, with a low around 55. N...</td>\n",
       "    </tr>\n",
       "    <tr>\n",
       "      <th>2</th>\n",
       "      <td>Thursday</td>\n",
       "      <td>Sunny</td>\n",
       "      <td>High: 77 °F</td>\n",
       "      <td>Thursday: Sunny, with a high near 77. Light an...</td>\n",
       "    </tr>\n",
       "    <tr>\n",
       "      <th>3</th>\n",
       "      <td>ThursdayNight</td>\n",
       "      <td>Partly Cloudy</td>\n",
       "      <td>Low: 56 °F</td>\n",
       "      <td>Thursday Night: Partly cloudy, with a low arou...</td>\n",
       "    </tr>\n",
       "    <tr>\n",
       "      <th>4</th>\n",
       "      <td>Friday</td>\n",
       "      <td>Sunny</td>\n",
       "      <td>High: 76 °F</td>\n",
       "      <td>Friday: Sunny, with a high near 76. South wind...</td>\n",
       "    </tr>\n",
       "    <tr>\n",
       "      <th>5</th>\n",
       "      <td>FridayNight</td>\n",
       "      <td>Clear</td>\n",
       "      <td>Low: 55 °F</td>\n",
       "      <td>Friday Night: Clear, with a low around 55.</td>\n",
       "    </tr>\n",
       "    <tr>\n",
       "      <th>6</th>\n",
       "      <td>Saturday</td>\n",
       "      <td>Sunny</td>\n",
       "      <td>High: 78 °F</td>\n",
       "      <td>Saturday: Sunny, with a high near 78.</td>\n",
       "    </tr>\n",
       "    <tr>\n",
       "      <th>7</th>\n",
       "      <td>SaturdayNight</td>\n",
       "      <td>Partly Cloudy</td>\n",
       "      <td>Low: 55 °F</td>\n",
       "      <td>Saturday Night: Partly cloudy, with a low arou...</td>\n",
       "    </tr>\n",
       "    <tr>\n",
       "      <th>8</th>\n",
       "      <td>Sunday</td>\n",
       "      <td>Mostly Sunny</td>\n",
       "      <td>High: 75 °F</td>\n",
       "      <td>Sunday: Mostly sunny, with a high near 75.</td>\n",
       "    </tr>\n",
       "  </tbody>\n",
       "</table>\n",
       "</div>"
      ],
      "text/plain": [
       "          period     short_desc         temp  \\\n",
       "0  ThisAfternoon          Sunny  High: 79 °F   \n",
       "1        Tonight   Mostly Clear   Low: 55 °F   \n",
       "2       Thursday          Sunny  High: 77 °F   \n",
       "3  ThursdayNight  Partly Cloudy   Low: 56 °F   \n",
       "4         Friday          Sunny  High: 76 °F   \n",
       "5    FridayNight          Clear   Low: 55 °F   \n",
       "6       Saturday          Sunny  High: 78 °F   \n",
       "7  SaturdayNight  Partly Cloudy   Low: 55 °F   \n",
       "8         Sunday   Mostly Sunny  High: 75 °F   \n",
       "\n",
       "                                                desc  \n",
       "0  This Afternoon: Sunny, with a high near 79. No...  \n",
       "1  Tonight: Mostly clear, with a low around 55. N...  \n",
       "2  Thursday: Sunny, with a high near 77. Light an...  \n",
       "3  Thursday Night: Partly cloudy, with a low arou...  \n",
       "4  Friday: Sunny, with a high near 76. South wind...  \n",
       "5         Friday Night: Clear, with a low around 55.  \n",
       "6              Saturday: Sunny, with a high near 78.  \n",
       "7  Saturday Night: Partly cloudy, with a low arou...  \n",
       "8         Sunday: Mostly sunny, with a high near 75.  "
      ]
     },
     "execution_count": 67,
     "metadata": {},
     "output_type": "execute_result"
    }
   ],
   "source": [
    "import pandas as pd\n",
    "weather = pd.DataFrame({\n",
    "    \"period\": periods,\n",
    "    \"short_desc\": short_descs,\n",
    "    \"temp\": temps,\n",
    "    \"desc\":descs\n",
    "    })\n",
    "weather"
   ]
  },
  {
   "cell_type": "code",
   "execution_count": null,
   "metadata": {},
   "outputs": [],
   "source": [
    "We can now do some analysis on the data. For example, we can pull out \n",
    "the numeric temperature values:\n",
    "\n",
    "\n"
   ]
  },
  {
   "cell_type": "code",
   "execution_count": 89,
   "metadata": {},
   "outputs": [
    {
     "name": "stdout",
     "output_type": "stream",
     "text": [
      "79\n",
      "55\n",
      "77\n",
      "56\n",
      "76\n",
      "55\n",
      "78\n",
      "55\n",
      "75\n"
     ]
    }
   ],
   "source": [
    "import re\n",
    "for str in weather[\"temp\"]:\n",
    "    print(int(re.findall('[0-9]+', str)[0]))"
   ]
  },
  {
   "cell_type": "markdown",
   "metadata": {},
   "source": [
    "In fact, we can use the Series.str.extract method to pull out the numeric \n",
    "temperature values:"
   ]
  },
  {
   "cell_type": "code",
   "execution_count": 85,
   "metadata": {},
   "outputs": [
    {
     "data": {
      "text/html": [
       "<div>\n",
       "<style scoped>\n",
       "    .dataframe tbody tr th:only-of-type {\n",
       "        vertical-align: middle;\n",
       "    }\n",
       "\n",
       "    .dataframe tbody tr th {\n",
       "        vertical-align: top;\n",
       "    }\n",
       "\n",
       "    .dataframe thead th {\n",
       "        text-align: right;\n",
       "    }\n",
       "</style>\n",
       "<table border=\"1\" class=\"dataframe\">\n",
       "  <thead>\n",
       "    <tr style=\"text-align: right;\">\n",
       "      <th></th>\n",
       "      <th>period</th>\n",
       "      <th>short_desc</th>\n",
       "      <th>temp</th>\n",
       "      <th>desc</th>\n",
       "      <th>temp_num</th>\n",
       "    </tr>\n",
       "  </thead>\n",
       "  <tbody>\n",
       "    <tr>\n",
       "      <th>0</th>\n",
       "      <td>ThisAfternoon</td>\n",
       "      <td>Sunny</td>\n",
       "      <td>High: 79 °F</td>\n",
       "      <td>This Afternoon: Sunny, with a high near 79. No...</td>\n",
       "      <td>79</td>\n",
       "    </tr>\n",
       "    <tr>\n",
       "      <th>1</th>\n",
       "      <td>Tonight</td>\n",
       "      <td>Mostly Clear</td>\n",
       "      <td>Low: 55 °F</td>\n",
       "      <td>Tonight: Mostly clear, with a low around 55. N...</td>\n",
       "      <td>55</td>\n",
       "    </tr>\n",
       "    <tr>\n",
       "      <th>2</th>\n",
       "      <td>Thursday</td>\n",
       "      <td>Sunny</td>\n",
       "      <td>High: 77 °F</td>\n",
       "      <td>Thursday: Sunny, with a high near 77. Light an...</td>\n",
       "      <td>77</td>\n",
       "    </tr>\n",
       "    <tr>\n",
       "      <th>3</th>\n",
       "      <td>ThursdayNight</td>\n",
       "      <td>Partly Cloudy</td>\n",
       "      <td>Low: 56 °F</td>\n",
       "      <td>Thursday Night: Partly cloudy, with a low arou...</td>\n",
       "      <td>56</td>\n",
       "    </tr>\n",
       "    <tr>\n",
       "      <th>4</th>\n",
       "      <td>Friday</td>\n",
       "      <td>Sunny</td>\n",
       "      <td>High: 76 °F</td>\n",
       "      <td>Friday: Sunny, with a high near 76. South wind...</td>\n",
       "      <td>76</td>\n",
       "    </tr>\n",
       "    <tr>\n",
       "      <th>5</th>\n",
       "      <td>FridayNight</td>\n",
       "      <td>Clear</td>\n",
       "      <td>Low: 55 °F</td>\n",
       "      <td>Friday Night: Clear, with a low around 55.</td>\n",
       "      <td>55</td>\n",
       "    </tr>\n",
       "    <tr>\n",
       "      <th>6</th>\n",
       "      <td>Saturday</td>\n",
       "      <td>Sunny</td>\n",
       "      <td>High: 78 °F</td>\n",
       "      <td>Saturday: Sunny, with a high near 78.</td>\n",
       "      <td>78</td>\n",
       "    </tr>\n",
       "    <tr>\n",
       "      <th>7</th>\n",
       "      <td>SaturdayNight</td>\n",
       "      <td>Partly Cloudy</td>\n",
       "      <td>Low: 55 °F</td>\n",
       "      <td>Saturday Night: Partly cloudy, with a low arou...</td>\n",
       "      <td>55</td>\n",
       "    </tr>\n",
       "    <tr>\n",
       "      <th>8</th>\n",
       "      <td>Sunday</td>\n",
       "      <td>Mostly Sunny</td>\n",
       "      <td>High: 75 °F</td>\n",
       "      <td>Sunday: Mostly sunny, with a high near 75.</td>\n",
       "      <td>75</td>\n",
       "    </tr>\n",
       "  </tbody>\n",
       "</table>\n",
       "</div>"
      ],
      "text/plain": [
       "          period     short_desc         temp  \\\n",
       "0  ThisAfternoon          Sunny  High: 79 °F   \n",
       "1        Tonight   Mostly Clear   Low: 55 °F   \n",
       "2       Thursday          Sunny  High: 77 °F   \n",
       "3  ThursdayNight  Partly Cloudy   Low: 56 °F   \n",
       "4         Friday          Sunny  High: 76 °F   \n",
       "5    FridayNight          Clear   Low: 55 °F   \n",
       "6       Saturday          Sunny  High: 78 °F   \n",
       "7  SaturdayNight  Partly Cloudy   Low: 55 °F   \n",
       "8         Sunday   Mostly Sunny  High: 75 °F   \n",
       "\n",
       "                                                desc  temp_num  \n",
       "0  This Afternoon: Sunny, with a high near 79. No...        79  \n",
       "1  Tonight: Mostly clear, with a low around 55. N...        55  \n",
       "2  Thursday: Sunny, with a high near 77. Light an...        77  \n",
       "3  Thursday Night: Partly cloudy, with a low arou...        56  \n",
       "4  Friday: Sunny, with a high near 76. South wind...        76  \n",
       "5         Friday Night: Clear, with a low around 55.        55  \n",
       "6              Saturday: Sunny, with a high near 78.        78  \n",
       "7  Saturday Night: Partly cloudy, with a low arou...        55  \n",
       "8         Sunday: Mostly sunny, with a high near 75.        75  "
      ]
     },
     "execution_count": 85,
     "metadata": {},
     "output_type": "execute_result"
    }
   ],
   "source": [
    "temp_nums = weather[\"temp\"].str.extract(\"(?P<temp_num>\\d+)\", expand=False)\n",
    "weather[\"temp_num\"] = temp_nums.astype('int')\n",
    "temp_nums\n",
    "weather"
   ]
  },
  {
   "cell_type": "code",
   "execution_count": null,
   "metadata": {},
   "outputs": [],
   "source": [
    "We could then find the mean of all the high and low temperatures:"
   ]
  },
  {
   "cell_type": "code",
   "execution_count": 86,
   "metadata": {},
   "outputs": [
    {
     "data": {
      "text/plain": [
       "67.33333333333333"
      ]
     },
     "execution_count": 86,
     "metadata": {},
     "output_type": "execute_result"
    }
   ],
   "source": [
    "weather[\"temp_num\"].mean()"
   ]
  },
  {
   "cell_type": "code",
   "execution_count": null,
   "metadata": {},
   "outputs": [],
   "source": [
    "We could also only select the rows that happen at night:"
   ]
  },
  {
   "cell_type": "code",
   "execution_count": 87,
   "metadata": {},
   "outputs": [
    {
     "data": {
      "text/plain": [
       "0    False\n",
       "1     True\n",
       "2    False\n",
       "3     True\n",
       "4    False\n",
       "5     True\n",
       "6    False\n",
       "7     True\n",
       "8    False\n",
       "Name: temp, dtype: bool"
      ]
     },
     "execution_count": 87,
     "metadata": {},
     "output_type": "execute_result"
    }
   ],
   "source": [
    "is_night = weather[\"temp\"].str.contains(\"Low\")\n",
    "weather[\"is_night\"] = is_night\n",
    "is_night"
   ]
  },
  {
   "cell_type": "code",
   "execution_count": 88,
   "metadata": {},
   "outputs": [
    {
     "data": {
      "text/html": [
       "<div>\n",
       "<style scoped>\n",
       "    .dataframe tbody tr th:only-of-type {\n",
       "        vertical-align: middle;\n",
       "    }\n",
       "\n",
       "    .dataframe tbody tr th {\n",
       "        vertical-align: top;\n",
       "    }\n",
       "\n",
       "    .dataframe thead th {\n",
       "        text-align: right;\n",
       "    }\n",
       "</style>\n",
       "<table border=\"1\" class=\"dataframe\">\n",
       "  <thead>\n",
       "    <tr style=\"text-align: right;\">\n",
       "      <th></th>\n",
       "      <th>period</th>\n",
       "      <th>short_desc</th>\n",
       "      <th>temp</th>\n",
       "      <th>desc</th>\n",
       "      <th>temp_num</th>\n",
       "      <th>is_night</th>\n",
       "    </tr>\n",
       "  </thead>\n",
       "  <tbody>\n",
       "    <tr>\n",
       "      <th>1</th>\n",
       "      <td>Tonight</td>\n",
       "      <td>Mostly Clear</td>\n",
       "      <td>Low: 55 °F</td>\n",
       "      <td>Tonight: Mostly clear, with a low around 55. N...</td>\n",
       "      <td>55</td>\n",
       "      <td>True</td>\n",
       "    </tr>\n",
       "    <tr>\n",
       "      <th>3</th>\n",
       "      <td>ThursdayNight</td>\n",
       "      <td>Partly Cloudy</td>\n",
       "      <td>Low: 56 °F</td>\n",
       "      <td>Thursday Night: Partly cloudy, with a low arou...</td>\n",
       "      <td>56</td>\n",
       "      <td>True</td>\n",
       "    </tr>\n",
       "    <tr>\n",
       "      <th>5</th>\n",
       "      <td>FridayNight</td>\n",
       "      <td>Clear</td>\n",
       "      <td>Low: 55 °F</td>\n",
       "      <td>Friday Night: Clear, with a low around 55.</td>\n",
       "      <td>55</td>\n",
       "      <td>True</td>\n",
       "    </tr>\n",
       "    <tr>\n",
       "      <th>7</th>\n",
       "      <td>SaturdayNight</td>\n",
       "      <td>Partly Cloudy</td>\n",
       "      <td>Low: 55 °F</td>\n",
       "      <td>Saturday Night: Partly cloudy, with a low arou...</td>\n",
       "      <td>55</td>\n",
       "      <td>True</td>\n",
       "    </tr>\n",
       "  </tbody>\n",
       "</table>\n",
       "</div>"
      ],
      "text/plain": [
       "          period     short_desc        temp  \\\n",
       "1        Tonight   Mostly Clear  Low: 55 °F   \n",
       "3  ThursdayNight  Partly Cloudy  Low: 56 °F   \n",
       "5    FridayNight          Clear  Low: 55 °F   \n",
       "7  SaturdayNight  Partly Cloudy  Low: 55 °F   \n",
       "\n",
       "                                                desc  temp_num  is_night  \n",
       "1  Tonight: Mostly clear, with a low around 55. N...        55      True  \n",
       "3  Thursday Night: Partly cloudy, with a low arou...        56      True  \n",
       "5         Friday Night: Clear, with a low around 55.        55      True  \n",
       "7  Saturday Night: Partly cloudy, with a low arou...        55      True  "
      ]
     },
     "execution_count": 88,
     "metadata": {},
     "output_type": "execute_result"
    }
   ],
   "source": [
    "weather[is_night]"
   ]
  }
 ],
 "metadata": {
  "kernelspec": {
   "display_name": "Python 3",
   "language": "python",
   "name": "python3"
  },
  "language_info": {
   "codemirror_mode": {
    "name": "ipython",
    "version": 3
   },
   "file_extension": ".py",
   "mimetype": "text/x-python",
   "name": "python",
   "nbconvert_exporter": "python",
   "pygments_lexer": "ipython3",
   "version": "3.7.2"
  }
 },
 "nbformat": 4,
 "nbformat_minor": 2
}
