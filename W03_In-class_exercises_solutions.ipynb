{
 "cells": [
  {
   "cell_type": "markdown",
   "metadata": {},
   "source": [
    "# In-class Exercises"
   ]
  },
  {
   "cell_type": "markdown",
   "metadata": {},
   "source": [
    "## Exercise 1 --- Without executing the following block of code, what's the value of \"hours\"?"
   ]
  },
  {
   "cell_type": "code",
   "execution_count": null,
   "metadata": {},
   "outputs": [],
   "source": [
    "hours = 10\n",
    "hours = hours + 1\n",
    "hours = hours * 2"
   ]
  },
  {
   "cell_type": "markdown",
   "metadata": {},
   "source": [
    "## Exercise 2 --- What's the value of \"seconds\" after running this code"
   ]
  },
  {
   "cell_type": "code",
   "execution_count": null,
   "metadata": {},
   "outputs": [],
   "source": [
    "minutes = minutes + 1\n",
    "seconds = minutes * 60\n",
    "#print(seconds)"
   ]
  },
  {
   "cell_type": "markdown",
   "metadata": {},
   "source": [
    "## Exercise 3"
   ]
  },
  {
   "cell_type": "code",
   "execution_count": null,
   "metadata": {},
   "outputs": [],
   "source": [
    "# Write python code that defines the variable pi equal to 3.14\n",
    "pi = 3.14\n",
    "\n",
    "# Also define a variable radius that equals 2 \n",
    "radius = 5\n",
    "\n",
    "# Calculate the circumference (circumference = 2 * radius * pi ) \n",
    "# and assign the value to variable circumference\n",
    "circumference = 2 * radius * pi \n",
    "# print the circumference on screen\n",
    "print(circumference) \n",
    "\n",
    "# Calculate the area of the circle using formula: area equals pi times the radius squared\n",
    "area = pi * radius ** 2\n",
    "# print the area of the circle on screen\n",
    "print(area)"
   ]
  },
  {
   "cell_type": "markdown",
   "metadata": {},
   "source": [
    "## Exercise 4"
   ]
  },
  {
   "cell_type": "code",
   "execution_count": null,
   "metadata": {},
   "outputs": [],
   "source": [
    "# Write Python code that prints out the number of hours in 7 weeks.\n",
    "hours_per_day = 24\n",
    "days_per_week = 7\n",
    "hours = hours_per_day * days_per_week * 7\n",
    "print(hours)"
   ]
  },
  {
   "cell_type": "markdown",
   "metadata": {},
   "source": [
    "## Exercise 5\n",
    "\n",
    "Write a program to prompt the user for hours and rate per hour to compute gross pay. For example, when \n",
    "you enter 35 for Hours and 2.75 for Rate, the program will return 96.25 for gross pay."
   ]
  },
  {
   "cell_type": "code",
   "execution_count": null,
   "metadata": {},
   "outputs": [],
   "source": [
    "# Is there anything wrong with the following code? \n",
    "\n",
    "Hours = input('Enter your Hours: ')\n",
    "Rate = input('Enter your rate: ')\n",
    "Pay = Hours * Rate\n",
    "print('Your gross pay is', Pay)"
   ]
  },
  {
   "cell_type": "code",
   "execution_count": null,
   "metadata": {},
   "outputs": [],
   "source": [
    "Hours = input('Enter your Hours: ')\n",
    "Rate = input('Enter your rate: ')\n",
    "Pay = float(Hours) * float(Rate)\n",
    "print('Your gross pay is', Pay)"
   ]
  },
  {
   "cell_type": "markdown",
   "metadata": {},
   "source": [
    "## Exercise 6\n",
    "\n",
    "Rewrite your pay computation in Exercise 5 to give the employee 1.5 times the hourly rate for hours worked \n",
    "above 40 hours.  For example, when \n",
    "you enter 45 for Hours and 10 for Rate, the program will return 475.0 for gross pay."
   ]
  },
  {
   "cell_type": "code",
   "execution_count": null,
   "metadata": {},
   "outputs": [],
   "source": [
    "# Is there anythong wrong with this code?\n",
    "\n",
    "Hours = input('Enter your Hours: ')\n",
    "Hours = float(Hours)\n",
    "\n",
    "Rate = input('Enter your rate: ')\n",
    "Rate = float(Rate)\n",
    "\n",
    "Overtime_Hours = Hours  - 40\n",
    "print(Overtime_Hours)\n",
    "\n",
    "if Overtime_Hours > 0:\n",
    "    Pay = float(40) * Rate + Overtime_Hours * Rate * 1.5\n",
    "else:\n",
    "    Pay = Hours * Rate \n",
    "\n",
    "print('Your gross pay is', Pay)"
   ]
  },
  {
   "cell_type": "markdown",
   "metadata": {},
   "source": [
    "## Exercise 7\n",
    "\n",
    "Rewrite your pay program using try and except so that your program handles non-numeric input gracefully.\n",
    "\n",
    "Enter Hours: 20 \n",
    "    \n",
    "Enter Rate: nine \n",
    "    \n",
    "Error, please enter numeric input\n",
    "\n",
    "Enter Hours: forty  \n",
    "    \n",
    "Error, please enter numeric input\n"
   ]
  },
  {
   "cell_type": "code",
   "execution_count": null,
   "metadata": {},
   "outputs": [],
   "source": [
    "Hours_val = -1\n",
    "while Hours_val == -1 :\n",
    "    Hours = input('Enter your numeric input for Hours:')\n",
    "    try: \n",
    "        Hours_val = float(Hours)\n",
    "    except : \n",
    "        Hours_val = -1\n",
    "        print('Error, please enter numeric input:')\n",
    "\n",
    "        \n",
    "Rate_val = -1\n",
    "while Rate_val == -1:\n",
    "    Rate = input('Enter numeric input for Rate: ')\n",
    "    try: \n",
    "        Rate_val = float(Rate)\n",
    "    except: \n",
    "        Rate_val = -1\n",
    "        print('Error, please enter numeric input: ')\n",
    "\n",
    "Overtime_Hours = Hours_val  - 40\n",
    "\n",
    "if Overtime_Hours > 0:\n",
    "    Pay = float(40) * Rate_val + Overtime_Hours * Rate_val * 1.5\n",
    "else:\n",
    "    Pay = Hours_val * Rate_val \n",
    "\n",
    "print('Your gross pay is', Pay)"
   ]
  },
  {
   "cell_type": "code",
   "execution_count": null,
   "metadata": {},
   "outputs": [],
   "source": []
  }
 ],
 "metadata": {
  "kernelspec": {
   "display_name": "Python 3",
   "language": "python",
   "name": "python3"
  },
  "language_info": {
   "codemirror_mode": {
    "name": "ipython",
    "version": 3
   },
   "file_extension": ".py",
   "mimetype": "text/x-python",
   "name": "python",
   "nbconvert_exporter": "python",
   "pygments_lexer": "ipython3",
   "version": "3.7.2"
  }
 },
 "nbformat": 4,
 "nbformat_minor": 1
}
