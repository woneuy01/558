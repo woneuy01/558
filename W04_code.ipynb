{
 "cells": [
  {
   "cell_type": "markdown",
   "metadata": {},
   "source": [
    "# Python code for Week 04"
   ]
  },
  {
   "cell_type": "markdown",
   "metadata": {},
   "source": [
    "## 1. One Example"
   ]
  },
  {
   "cell_type": "code",
   "execution_count": null,
   "metadata": {},
   "outputs": [],
   "source": [
    "def thing():\n",
    "    print('Hello')\n",
    "    print('Fun')\n",
    " \n",
    "thing()\n",
    "print('Zip')\n",
    "thing()"
   ]
  },
  {
   "cell_type": "markdown",
   "metadata": {},
   "source": [
    "## 2. Some Built-in Functions"
   ]
  },
  {
   "cell_type": "code",
   "execution_count": null,
   "metadata": {},
   "outputs": [],
   "source": [
    "### 2.1 max( ) and min( ) \n",
    "The max( ) method returns the largest element in an iterable or largest of two or more parameters. If you \n",
    "want to find the smallest element, use min( ) method."
   ]
  },
  {
   "cell_type": "code",
   "execution_count": null,
   "metadata": {},
   "outputs": [],
   "source": [
    "big = max('Hello world')\n",
    "print(big)"
   ]
  },
  {
   "cell_type": "markdown",
   "metadata": {},
   "source": [
    "tiny = min('Hello world')\n",
    "print(tiny)"
   ]
  },
  {
   "cell_type": "code",
   "execution_count": null,
   "metadata": {},
   "outputs": [],
   "source": [
    "tiny = min('Hello')\n",
    "print(tiny)"
   ]
  },
  {
   "cell_type": "code",
   "execution_count": null,
   "metadata": {},
   "outputs": [],
   "source": [
    "tiny = min('world')\n",
    "print(tiny)"
   ]
  },
  {
   "cell_type": "markdown",
   "metadata": {},
   "source": [
    "### 2.2 Type symbol?? to see the source code of your own function (optional)\n",
    "\n",
    "See more at [here](https://opensource.com/article/18/5/how-retrieve-source-code-python-functions) on \n",
    "how to retrieve source code of Python functions"
   ]
  },
  {
   "cell_type": "code",
   "execution_count": null,
   "metadata": {},
   "outputs": [],
   "source": [
    "import os\n",
    "max??"
   ]
  },
  {
   "cell_type": "code",
   "execution_count": null,
   "metadata": {},
   "outputs": [],
   "source": [
    "import os\n",
    "thing??"
   ]
  },
  {
   "cell_type": "markdown",
   "metadata": {},
   "source": [
    "### 2.3 More on functions max( ) and min( )\n",
    "See [this link](https://docs.python.org/3/library/functions.html#max) for more details."
   ]
  },
  {
   "cell_type": "code",
   "execution_count": null,
   "metadata": {},
   "outputs": [],
   "source": [
    "# using max(arg1, arg2, *args)\n",
    "print('Maximum is:', max(1, 3, 2, 5, 4))\n",
    "\n",
    "# using max(iterable)\n",
    "num = [1, 3, 2, 8, 5, 10, 6]\n",
    "print('Maximum is:', max(num))"
   ]
  },
  {
   "cell_type": "code",
   "execution_count": null,
   "metadata": {},
   "outputs": [],
   "source": [
    "# define a function to compute the sum of all digits of a number\n",
    "def sumDigit(num):\n",
    "    sum = 0\n",
    "    while(num):\n",
    "        sum + = num % 10\n",
    "        num = int(num / 10)\n",
    "    return sum\n",
    "\n",
    "# using max(arg1, arg2, *args, key)\n",
    "print('Maximum is:', max(100, 321, 267, 59, 40, key=sumDigit))\n",
    "\n",
    "# using max(iterable, key)\n",
    "num = [100, 321, 267, 59, 40]\n",
    "print('Maximum is:', max(num, key=sumDigit))"
   ]
  },
  {
   "cell_type": "markdown",
   "metadata": {},
   "source": [
    "### 2.4 Some Functions for Type Conversions\n",
    "- When you put an integer and floating point in an expression, the integer is implicitly converted to a float.\n",
    "- You can control this with the built-in functions int( ) and float( )"
   ]
  },
  {
   "cell_type": "code",
   "execution_count": null,
   "metadata": {},
   "outputs": [],
   "source": [
    "print(float(99) / 100)"
   ]
  },
  {
   "cell_type": "code",
   "execution_count": null,
   "metadata": {},
   "outputs": [],
   "source": [
    "i = 42\n",
    "type(i)"
   ]
  },
  {
   "cell_type": "code",
   "execution_count": null,
   "metadata": {},
   "outputs": [],
   "source": [
    "f = float(i)\n",
    "print(f)\n",
    "\n",
    "type(f)"
   ]
  },
  {
   "cell_type": "code",
   "execution_count": null,
   "metadata": {},
   "outputs": [],
   "source": [
    "print(1 + 2 * float(3) / 4 - 5)"
   ]
  },
  {
   "cell_type": "markdown",
   "metadata": {},
   "source": [
    "### 2.5 Some Functions for String Conversions\n",
    "- You can also use int() and float() to convert between strings and integers\n",
    "- You will get an error if the string does not contain numeric characters"
   ]
  },
  {
   "cell_type": "code",
   "execution_count": null,
   "metadata": {},
   "outputs": [],
   "source": [
    "sval = '123'\n",
    "type(sval)"
   ]
  },
  {
   "cell_type": "code",
   "execution_count": null,
   "metadata": {},
   "outputs": [],
   "source": [
    "print(sval + 1)"
   ]
  },
  {
   "cell_type": "code",
   "execution_count": null,
   "metadata": {},
   "outputs": [],
   "source": [
    "ival = int(sval)\n",
    "type(ival)"
   ]
  },
  {
   "cell_type": "code",
   "execution_count": null,
   "metadata": {},
   "outputs": [],
   "source": [
    "print(ival + 1)"
   ]
  },
  {
   "cell_type": "code",
   "execution_count": null,
   "metadata": {},
   "outputs": [],
   "source": [
    "nsv = 'hello bob'\n",
    "niv = int(nsv)"
   ]
  },
  {
   "cell_type": "markdown",
   "metadata": {},
   "source": [
    "## 3 Functions of Our Own"
   ]
  },
  {
   "cell_type": "code",
   "execution_count": null,
   "metadata": {},
   "outputs": [],
   "source": [
    "x = 5\n",
    "print('Hello')\n",
    "\n",
    "def print_lyrics():\n",
    "    print(\"I'm a lumberjack, and I'm okay.\")\n",
    "    print('I sleep all night and I work all day.')\n",
    "\n",
    "print('Yo')\n",
    "x = x + 2\n",
    "print(x)"
   ]
  },
  {
   "cell_type": "code",
   "execution_count": null,
   "metadata": {},
   "outputs": [],
   "source": [
    "x = 5\n",
    "print('Hello')\n",
    "\n",
    "print_lyrics_v2()\n",
    "\n",
    "def print_lyrics():\n",
    "    print(\"I'm a lumberjack, and I'm okay.\")\n",
    "    print('I sleep all night and I work all day.')\n",
    "\n",
    "print_lyrics()\n",
    "\n",
    "print('Yo')\n",
    "x = x + 2\n",
    "print(x)\n",
    "\n",
    "print_lyrics()\n"
   ]
  },
  {
   "cell_type": "code",
   "execution_count": null,
   "metadata": {},
   "outputs": [],
   "source": [
    "def greet():\n",
    "    return \"Hello\"\n",
    "\n",
    "print(greet(), \"Glenn\")\n",
    "print(greet(), \"Sally\")"
   ]
  },
  {
   "cell_type": "code",
   "execution_count": null,
   "metadata": {},
   "outputs": [],
   "source": [
    "def myfun2(x, y):\n",
    "    print(x + y)\n",
    "\n",
    "myfun2(1, 3)"
   ]
  },
  {
   "cell_type": "code",
   "execution_count": 22,
   "metadata": {},
   "outputs": [
    {
     "name": "stdout",
     "output_type": "stream",
     "text": [
      "done!\n",
      "1\n",
      "done!\n",
      "2\n"
     ]
    },
    {
     "data": {
      "text/plain": [
       "2"
      ]
     },
     "execution_count": 22,
     "metadata": {},
     "output_type": "execute_result"
    }
   ],
   "source": [
    "## return is the last line of your function\n",
    "def myfun(x):\n",
    "    if x <= 5:\n",
    "        y = x\n",
    "    else:\n",
    "        y = x - 5\n",
    "    \n",
    "    print(\"done!\")\n",
    "    print(y)\n",
    "    return y\n",
    "\n",
    "myfun(1) + 3\n",
    "\n",
    "# myfun(8)"
   ]
  },
  {
   "cell_type": "code",
   "execution_count": 23,
   "metadata": {},
   "outputs": [
    {
     "name": "stdout",
     "output_type": "stream",
     "text": [
      "done!\n",
      "1\n"
     ]
    },
    {
     "ename": "TypeError",
     "evalue": "unsupported operand type(s) for +: 'NoneType' and 'int'",
     "output_type": "error",
     "traceback": [
      "\u001b[0;31m---------------------------------------------------------------------------\u001b[0m",
      "\u001b[0;31mTypeError\u001b[0m                                 Traceback (most recent call last)",
      "\u001b[0;32m<ipython-input-23-38786523dc78>\u001b[0m in \u001b[0;36m<module>\u001b[0;34m\u001b[0m\n\u001b[1;32m     10\u001b[0m \u001b[0;34m\u001b[0m\u001b[0m\n\u001b[1;32m     11\u001b[0m \u001b[0;34m\u001b[0m\u001b[0m\n\u001b[0;32m---> 12\u001b[0;31m \u001b[0mmyfun\u001b[0m\u001b[0;34m(\u001b[0m\u001b[0;36m1\u001b[0m\u001b[0;34m)\u001b[0m \u001b[0;34m+\u001b[0m \u001b[0;36m3\u001b[0m\u001b[0;34m\u001b[0m\u001b[0;34m\u001b[0m\u001b[0m\n\u001b[0m",
      "\u001b[0;31mTypeError\u001b[0m: unsupported operand type(s) for +: 'NoneType' and 'int'"
     ]
    }
   ],
   "source": [
    "## return is the last line of your function\n",
    "def myfun(x):\n",
    "    if x <= 5:\n",
    "        y = x\n",
    "    else:\n",
    "        y = x - 5\n",
    "    \n",
    "    print(\"done!\")\n",
    "    print(y)\n",
    "\n",
    "\n",
    "myfun(1) + 3"
   ]
  },
  {
   "cell_type": "code",
   "execution_count": null,
   "metadata": {},
   "outputs": [],
   "source": [
    "## 4 Exercise\n",
    "Rewrite your pay computation with time-and-a-half for overtime and create a function called \n",
    "computepay which takes two parameters ( hours and  rate).\n",
    "\n",
    "Enter Hours: 45\n",
    "    \n",
    "Enter Rate: 10 \n",
    "    \n",
    "Pay: 475.0"
   ]
  },
  {
   "cell_type": "code",
   "execution_count": null,
   "metadata": {},
   "outputs": [],
   "source": [
    "def computepay(hours, rate):\n",
    "    try:\n",
    "        hours = float(hours)\n",
    "    except:\n",
    "        hours = -1\n",
    "\n",
    "    try:\n",
    "        rate = float(rate)\n",
    "    except:\n",
    "        rate = -1\n",
    "    \n",
    "    if hours == -1 and rate == -1:\n",
    "        print(\"Both inputs are not number!\")\n",
    "    elif hours == -1:\n",
    "        print(\"Your input for hours is not a number!\")\n",
    "    elif rate == -1:\n",
    "        print(\"Your input for rate is not a number!\")\n",
    "    else:\n",
    "        if hours <= 40:\n",
    "           pay = hours * rate\n",
    "        else:\n",
    "           pay = 40 * rate + (hours - 40) * 1.5 * rate\n",
    "        return pay\n",
    "    \n",
    "#computepay(45, 10)\n",
    "\n",
    "#computepay(35, 10)\n",
    "\n",
    "#computepay(\"five\", 10)\n",
    "\n",
    "#computepay(5, \"ten\")\n",
    "\n",
    "computepay(\"five\", \"ten\")"
   ]
  },
  {
   "cell_type": "code",
   "execution_count": 25,
   "metadata": {},
   "outputs": [
    {
     "name": "stdout",
     "output_type": "stream",
     "text": [
      "Lather\n",
      "Risne\n",
      "Lather\n",
      "Risne\n",
      "Lather\n",
      "Risne\n",
      "Lather\n",
      "Risne\n",
      "Lather\n",
      "Risne\n",
      "Blastoff!\n",
      "0\n"
     ]
    }
   ],
   "source": [
    "n = 5\n",
    "while n > 0 :\n",
    "    print('Lather')\n",
    "    print(\"Risne\")\n",
    "    n = n - 1\n",
    "\n",
    "print('Blastoff!')\n",
    "print(n)"
   ]
  },
  {
   "cell_type": "code",
   "execution_count": 30,
   "metadata": {},
   "outputs": [
    {
     "name": "stdout",
     "output_type": "stream",
     "text": [
      "9\n",
      "8\n",
      "7\n",
      "5\n",
      "Done\n"
     ]
    }
   ],
   "source": [
    "n = 10\n",
    "while n > 0 :\n",
    "    #print(n)\n",
    "    n = n - 1\n",
    "    if n == 6:\n",
    "        continue\n",
    "    if n == 4:\n",
    "        break\n",
    "    print(n)\n",
    "\n",
    "\n",
    "print(\"Done\")\n",
    "    "
   ]
  },
  {
   "cell_type": "code",
   "execution_count": null,
   "metadata": {},
   "outputs": [],
   "source": []
  }
 ],
 "metadata": {
  "kernelspec": {
   "display_name": "Python 3",
   "language": "python",
   "name": "python3"
  },
  "language_info": {
   "codemirror_mode": {
    "name": "ipython",
    "version": 3
   },
   "file_extension": ".py",
   "mimetype": "text/x-python",
   "name": "python",
   "nbconvert_exporter": "python",
   "pygments_lexer": "ipython3",
   "version": "3.7.2"
  }
 },
 "nbformat": 4,
 "nbformat_minor": 2
}
