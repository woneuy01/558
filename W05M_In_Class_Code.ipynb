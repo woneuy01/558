{
 "cells": [
  {
   "cell_type": "code",
   "execution_count": null,
   "metadata": {},
   "outputs": [],
   "source": [
    "for  i in [5, 4, 3, 2, 1] :\n",
    "    print(i)\n"
   ]
  },
  {
   "cell_type": "code",
   "execution_count": null,
   "metadata": {},
   "outputs": [],
   "source": [
    "\n",
    "for  i in \"a pp le\" :\n",
    "    print(i)"
   ]
  },
  {
   "cell_type": "code",
   "execution_count": null,
   "metadata": {},
   "outputs": [],
   "source": [
    "zork = 0\n",
    "for thing in \"Apple\" :\n",
    "    zork = zork + 1\n",
    "\n",
    "print(zork)"
   ]
  },
  {
   "cell_type": "code",
   "execution_count": null,
   "metadata": {},
   "outputs": [],
   "source": [
    "zork = 0\n",
    "for thing in [1, 2, 3, 5, 6, 7, 9, 10]:\n",
    "    if thing % 2 == 0 :\n",
    "        zork = zork + 1\n",
    "        print(zork, thing)\n",
    "        \n",
    "print(zork)"
   ]
  },
  {
   "cell_type": "code",
   "execution_count": null,
   "metadata": {},
   "outputs": [],
   "source": [
    "count = 0\n",
    "count_A = 0\n",
    "for score in [100, 90, 80, 60, 56, 40, 98] :\n",
    "    count = count + 1\n",
    "    if score >= 90 :\n",
    "        count_A = count_A + 1\n",
    "        \n",
    "print(count_A, count, count_A/count)\n",
    "        \n",
    "        \n",
    "    "
   ]
  },
  {
   "cell_type": "code",
   "execution_count": null,
   "metadata": {},
   "outputs": [],
   "source": [
    "\n",
    "mydata = [9, 41, 12, 3, 74, 15]\n",
    "smallest_so_far = mydata[0]\n",
    "\n",
    "for the_num in mydata :\n",
    "    if the_num < smallest_so_far :\n",
    "        smallest_so_far = the_num\n",
    "    \n",
    "    print(smallest_so_far, the_num)\n",
    "\n",
    "print(smallest_so_far)\n",
    "    "
   ]
  },
  {
   "cell_type": "code",
   "execution_count": null,
   "metadata": {},
   "outputs": [],
   "source": []
  }
 ],
 "metadata": {
  "kernelspec": {
   "display_name": "Python 3",
   "language": "python",
   "name": "python3"
  },
  "language_info": {
   "codemirror_mode": {
    "name": "ipython",
    "version": 3
   },
   "file_extension": ".py",
   "mimetype": "text/x-python",
   "name": "python",
   "nbconvert_exporter": "python",
   "pygments_lexer": "ipython3",
   "version": "3.7.2"
  }
 },
 "nbformat": 4,
 "nbformat_minor": 2
}
